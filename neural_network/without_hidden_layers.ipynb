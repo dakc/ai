{
 "cells": [
  {
   "cell_type": "markdown",
   "metadata": {},
   "source": [
    "## Trainning Data\n",
    "Let us create a simple collection of data from which we can find whether a person will get Job or not by checking whether he passed maths,english & physics or not.\n",
    "\n",
    "| Person\t| Math\t| English\t| Physics\t| Hired |\n",
    "| --------- |-----------|-----------|-----------|--------|\n",
    "|Person 1\t|0\t|1\t|1\t|1|\n",
    "|Person 2\t|1\t|0\t|0\t|1|\n",
    "|Person 3\t|0\t|1\t|0\t|0|\n",
    "|Person 4\t|1\t|0\t|1\t|1|"
   ]
  },
  {
   "cell_type": "markdown",
   "metadata": {},
   "source": [
    "# Create Neural Network\n",
    "For simplicity we will be creating a neural network without any hidden layers. As, We see the trainning data three subject results will be seen to hire a person. So, we will have 3 nodes in input layer. As the result will be either hired or not, the output node will be single.\n",
    "\n",
    "![](intro.png)"
   ]
  },
  {
   "cell_type": "code",
   "execution_count": 1,
   "metadata": {},
   "outputs": [],
   "source": [
    "import numpy as np"
   ]
  },
  {
   "cell_type": "code",
   "execution_count": 2,
   "metadata": {},
   "outputs": [],
   "source": [
    "# create input data as numpy array from above table\n",
    "inputs = np.array([\n",
    "    [0,1,1],\n",
    "    [1,0,0],\n",
    "    [0,1,0],\n",
    "    [1,0,1]])\n",
    "\n",
    "# create the actual output from above table\n",
    "outputs = np.array([\n",
    "    [1],\n",
    "    [1],\n",
    "    [0],\n",
    "    [1]])\n",
    "\n",
    "np.random.seed(1)\n",
    "# initialize weights with 3 x 1 array with random values\n",
    "weights = np.random.rand(3,1)\n",
    "# initialize bias\n",
    "bias = np.random.rand(1)\n",
    "# initialize learning rate\n",
    "lr = 0.1\n",
    "# initialize epoch\n",
    "epoch = 5"
   ]
  },
  {
   "cell_type": "code",
   "execution_count": 3,
   "metadata": {},
   "outputs": [],
   "source": [
    "def sigmoid(x):\n",
    "    \"\"\"\n",
    "    calculate sigmoid of x\n",
    "    \"\"\"\n",
    "    return 1/(1+np.exp(-x))\n",
    "\n",
    "def sigmoid_der(x):\n",
    "    \"\"\"\n",
    "    calculate derivative for sigmoid of x\n",
    "    \"\"\"\n",
    "    return sigmoid(x)*(1-sigmoid(x))\n",
    "\n",
    "def predict(data):\n",
    "    \"\"\"\n",
    "    predict the output for given data\n",
    "    \"\"\"\n",
    "    # feedforward step1: predict output\n",
    "    _prediction = np.dot(data, weights) + bias\n",
    "\n",
    "    #feedforward step2: normalize output\n",
    "    activated_prediction = sigmoid(_prediction)\n",
    "    \n",
    "    # normalized value will be the predicted value in feedforward network\n",
    "    return activated_prediction"
   ]
  },
  {
   "cell_type": "markdown",
   "metadata": {},
   "source": [
    "## Train"
   ]
  },
  {
   "cell_type": "code",
   "execution_count": 4,
   "metadata": {},
   "outputs": [
    {
     "name": "stdout",
     "output_type": "stream",
     "text": [
      "Tranning is completed.\n",
      "Loss  : -0.53154060\n",
      "weight:  [0.51639276 0.67011572 0.09032967]\n",
      "bias  :  -0.23645473358571636\n"
     ]
    }
   ],
   "source": [
    "# start tranning\n",
    "for itr in range(epoch+1):\n",
    "    # step1: predict output from feedforward network\n",
    "    prediction = predict(inputs)\n",
    "\n",
    "    # step2: calculate loss\n",
    "    error = prediction - outputs\n",
    "\n",
    "    # step 3 : correct weights and bias using gradient descent\n",
    "    # these values are propagated to backward layer ie, input layer, that is why it is called backpropagation\n",
    "    weights = weights - (lr * np.dot(inputs.T,  error * sigmoid_der(prediction)))\n",
    "    bias = bias - lr * np.sum(sigmoid_der(prediction),axis=0,keepdims=True)\n",
    "    \n",
    "# Trainning completed\n",
    "print(\"Tranning is completed.\")\n",
    "print(\"Loss  : {:.8f}\".format(error.sum()))\n",
    "print(\"weight: \", weights.T[0])\n",
    "print(\"bias  : \", np.asscalar(bias))"
   ]
  },
  {
   "cell_type": "markdown",
   "metadata": {},
   "source": [
    "## Predict\n",
    "Let us predict whether a person failed in math but passed in english & physics will be hired or not..."
   ]
  },
  {
   "cell_type": "code",
   "execution_count": 6,
   "metadata": {},
   "outputs": [
    {
     "name": "stdout",
     "output_type": "stream",
     "text": [
      "[1, 1, 1] Hired 0.7389239804066241\n",
      "[1, 1, 0] Hired 0.7211259864666665\n",
      "[0, 0, 0] Not Hired 0.44116020999075406\n",
      "[0, 0, 1] Not Hired 0.4635335996866464\n",
      "[1, 0, 0] Hired 0.5695310290839337\n"
     ]
    }
   ],
   "source": [
    "# create function that will show the result\n",
    "def get_prediction(data):\n",
    "    pred = predict(data)\n",
    "    msg = \"Hired\" if round(np.asscalar(pred)) else \"Not Hired\"\n",
    "    print(data, msg, np.asscalar(pred))\n",
    "\n",
    "# test whether passed in all subject will be hired or not\n",
    "get_prediction([1,1,1])\n",
    "\n",
    "# test whether passed in math,english but failed in physics will be hired or not\n",
    "get_prediction([1,1,0])\n",
    "\n",
    "# test whether failed in all subject will be hired or not\n",
    "get_prediction([0,0,0])\n",
    "\n",
    "# test whether passed only in physics will be hired or not\n",
    "get_prediction([0,0,1])\n",
    "\n",
    "# test whether passed only in maths will be hired or not\n",
    "get_prediction([1,0,0])"
   ]
  }
 ],
 "metadata": {
  "kernelspec": {
   "display_name": "Python 3",
   "language": "python",
   "name": "python3"
  },
  "language_info": {
   "codemirror_mode": {
    "name": "ipython",
    "version": 3
   },
   "file_extension": ".py",
   "mimetype": "text/x-python",
   "name": "python",
   "nbconvert_exporter": "python",
   "pygments_lexer": "ipython3",
   "version": "3.7.3"
  }
 },
 "nbformat": 4,
 "nbformat_minor": 4
}
