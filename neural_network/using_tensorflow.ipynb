{
 "cells": [
  {
   "cell_type": "markdown",
   "metadata": {},
   "source": [
    "# Neural Network From Scratch (Using Tensorflow) - 3\n",
    "\n",
    "In this part we will create a neural network similar to [Neural Network From Scratch - 2](with_single_hidden_layer.ipynb) using tensorflow.\n",
    "\n",
    "![](with_single_hidden_layer.png)"
   ]
  },
  {
   "cell_type": "code",
   "execution_count": null,
   "metadata": {},
   "outputs": [],
   "source": [
    "import numpy as np\n",
    "import tensorflow as tf"
   ]
  },
  {
   "cell_type": "markdown",
   "metadata": {},
   "source": [
    "## Trainning Data\n",
    "Let us create a simple collection of data from which we can find whether a person will get Job or not by checking whether he passed maths,english & physics or not (Exactly same to [Neural Network From Scratch - 1](without_hidden_layers.ipynb)).\n",
    "\n",
    "|Person    |Math| English| Physics| Hired |\n",
    "|----------|-----|-------|--------|-------|\n",
    "|Person 1  |0    |1      |1       |1      |\n",
    "|Person 2  |1    |0      |0       |1      |\n",
    "|Person 3  |0    |1      |0       |0      |\n",
    "|Person 4  |1    |0      |1       |1      |"
   ]
  },
  {
   "cell_type": "code",
   "execution_count": null,
   "metadata": {},
   "outputs": [],
   "source": [
    "# ０：不合格、１：合格\n",
    "# 合格状態のデータ\n",
    "inputs = np.array([\n",
    "    [0,1,1],\n",
    "    [1,0,0],\n",
    "    [0,1,0],\n",
    "    [1,0,1]]).astype(np.float32)\n",
    "\n",
    "# ０：仕事見つからなかった、１：見つかった\n",
    "# 仕事見つかった実績\n",
    "outputs = np.array([\n",
    "    [1],\n",
    "    [1],\n",
    "    [0],\n",
    "    [1]]).astype(np.float32)"
   ]
  },
  {
   "cell_type": "code",
   "execution_count": null,
   "metadata": {},
   "outputs": [],
   "source": [
    "# learning rateの初期化\n",
    "lr = 0.1\n",
    "\n",
    "# epochの初期化\n",
    "epoch = 50000"
   ]
  },
  {
   "cell_type": "code",
   "execution_count": null,
   "metadata": {},
   "outputs": [],
   "source": [
    "input_feature = inputs.shape[1]\n",
    "\n",
    "# hidden layer\n",
    "# num of nodes in hidden layer\n",
    "num_node = 1\n",
    "\n",
    "# 入力層と隠れ層をつなぐ weightの初期化\n",
    "weights_ih = tf.Variable( tf.random_uniform([input_feature,num_node] , minval=0.1 , maxval=0.9 , dtype=tf.float32))\n",
    "# 入力層と隠れ層をつなぐbiasの初期化\n",
    "bias_h = tf.Variable( tf.random_uniform( [num_node]   , minval=0.1 , maxval=0.9 , dtype=tf.float32  ))\n",
    "\n",
    "prediction_h  = tf.sigmoid( tf.matmul( inputs, weights_ih ) + bias_h )\n",
    "\n",
    "# 隠れ層と出力層をつなぐweightの初期化\n",
    "weights_ho = tf.Variable( tf.random_uniform( [num_node,1] , minval=0.1 , maxval=0.9 , dtype=tf.float32  ))\n",
    "\n",
    "# 隠れ層と出力層をつなぐbiasの初期化\n",
    "bias_o = tf.Variable( tf.random_uniform( [1]   , minval=0.1 , maxval=0.9 , dtype=tf.float32  ))\n",
    "\n",
    "prediction_o  = tf.sigmoid( tf.matmul( prediction_h, weights_ho ) + bias_o )"
   ]
  },
  {
   "cell_type": "code",
   "execution_count": null,
   "metadata": {},
   "outputs": [],
   "source": [
    "### loss\n",
    "# loss : sum of the squares of y0—y_out\n",
    "loss = tf.reduce_sum( tf.square(outputs - prediction_o ) )\n",
    "\n",
    "# training step : gradient descent (1.0) to minimize loss\n",
    "train = tf.train.GradientDescentOptimizer(lr).minimize(loss)"
   ]
  },
  {
   "cell_type": "code",
   "execution_count": null,
   "metadata": {},
   "outputs": [],
   "source": [
    "with tf.Session() as sess:\n",
    "  sess.run( tf.global_variables_initializer() )\n",
    "  for step in range(epoch) :\n",
    "    sess.run(train)\n",
    "\n",
    "  weights_ih_f, bias_h_f, weights_ho_f, bias_o_f, error = sess.run([weights_ih, bias_h, weights_ho, bias_o, loss])\n",
    "\n",
    "# 学習終了\n",
    "print(\"Loss  : {:.8f}\".format(error))\n",
    "print(\"weight ih: \", weights_ih_f)\n",
    "print(\"bias h : \", bias_h_f)\n",
    "print(\"weights ho: \", weights_ho_f.T[0])\n",
    "print(\"bias o : \", np.asscalar(bias_o_f))"
   ]
  },
  {
   "cell_type": "code",
   "execution_count": null,
   "metadata": {},
   "outputs": [],
   "source": [
    "# 結果を表示するための関数\n",
    "def get_prediction(data):\n",
    "    def activate(x):\n",
    "        return 1/(1+np.exp(-x))\n",
    "    pred_h = activate(np.dot(data, weights_ih_f) + bias_h_f)\n",
    "    pred_o = activate(np.dot(pred_h, weights_ho_f) + bias_o_f)\n",
    "    msg = \"Hired\" if round(np.asscalar(pred_o)) else \"Not Hired\"\n",
    "    print(data, msg, np.asscalar(pred_o))\n",
    "\n",
    "# 全科目合格の場合は、仕事見つかるか\n",
    "get_prediction([1,1,1])\n",
    "\n",
    "# 物理のみ不合格の場合は、仕事見つかるか\n",
    "get_prediction([1,1,0])\n",
    "\n",
    "# 全科目不合格の場合は、仕事見つかるか\n",
    "get_prediction([0,0,0])\n",
    "\n",
    "# test whether passed only in physics will be hired or not\n",
    "get_prediction([0,0,1])\n",
    "\n",
    "# test whether passed only in maths will be hired or not\n",
    "get_prediction([1,0,0])"
   ]
  }
 ],
 "metadata": {
  "kernelspec": {
   "display_name": "Python 3",
   "language": "python",
   "name": "python3"
  },
  "language_info": {
   "codemirror_mode": {
    "name": "ipython",
    "version": 3
   },
   "file_extension": ".py",
   "mimetype": "text/x-python",
   "name": "python",
   "nbconvert_exporter": "python",
   "pygments_lexer": "ipython3",
   "version": "3.7.3"
  }
 },
 "nbformat": 4,
 "nbformat_minor": 4
}
