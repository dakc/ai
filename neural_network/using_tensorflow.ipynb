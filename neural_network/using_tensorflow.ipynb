{
 "cells": [
  {
   "cell_type": "markdown",
   "metadata": {},
   "source": [
    "# Neural Network From Scratch - 3\n",
    "\n",
    "In this part we will create a neural network similar to [Neural Network From Scratch - 2](with_single_hidden_layer.ipynb) using tensorflow.\n",
    "\n",
    "![](with_single_hidden_layer.png)"
   ]
  },
  {
   "cell_type": "code",
   "execution_count": null,
   "metadata": {},
   "outputs": [],
   "source": [
    "import numpy as np\n",
    "import tensorflow as tf"
   ]
  },
  {
   "cell_type": "markdown",
   "metadata": {},
   "source": [
    "## Trainning Data\n",
    "Let us create a simple collection of data from which we can find whether a person will get Job or not by checking whether he passed maths,english & physics or not (Exactly same to [Neural Network From Scratch - 1](without_hidden_layers.ipynb)).\n",
    "\n",
    "|Person    |Math| English| Physics| Hired |\n",
    "|----------|-----|-------|--------|-------|\n",
    "|Person 1  |0    |1      |1       |1      |\n",
    "|Person 2  |1    |0      |0       |1      |\n",
    "|Person 3  |0    |1      |0       |0      |\n",
    "|Person 4  |1    |0      |1       |1      |"
   ]
  },
  {
   "cell_type": "code",
   "execution_count": null,
   "metadata": {},
   "outputs": [],
   "source": [
    "# create input data as numpy array from above table\n",
    "inputs = np.array([\n",
    "    [0,1,1],\n",
    "    [1,0,0],\n",
    "    [0,1,0],\n",
    "    [1,0,1]]).astype(np.float32)\n",
    "\n",
    "# create the actual output from above table\n",
    "outputs = np.array([\n",
    "    [1],\n",
    "    [1],\n",
    "    [0],\n",
    "    [1]]).astype(np.float32)"
   ]
  },
  {
   "cell_type": "markdown",
   "metadata": {},
   "source": [
    "## Initialize parameters\n",
    "These hyper parameters are exactly similar as we defined in [Neural Network From Scratch - 2](with_single_hidden_layer.ipynb). "
   ]
  },
  {
   "cell_type": "code",
   "execution_count": null,
   "metadata": {},
   "outputs": [],
   "source": [
    "# learning rate\n",
    "lr = 0.1\n",
    "\n",
    "# epoch\n",
    "epoch = 5000\n",
    "\n",
    "# num of nodes in hidden layer\n",
    "num_node = 1"
   ]
  },
  {
   "cell_type": "markdown",
   "metadata": {},
   "source": [
    "# Tensorflow\n",
    "This part is different from what we learnt on previous two lessons. We will use tensorflow variables to describe each layer's parameters. Naming convention is same as we did on previous lessons. The most awesome part of tensorflow is we define everything before and then run.This makes the code very readable.Thanks to Tensorflow."
   ]
  },
  {
   "cell_type": "code",
   "execution_count": null,
   "metadata": {},
   "outputs": [],
   "source": [
    "# number of input features\n",
    "input_feature = inputs.shape[1]\n",
    "\n",
    "# initialize weights connecting input layer to hidden layer\n",
    "weights_ih = tf.Variable( tf.random_uniform([input_feature,num_node] , minval=0.1 , maxval=0.9 , dtype=tf.float32))\n",
    "\n",
    "# initialize bias at hidden layer\n",
    "bias_h = tf.Variable( tf.random_uniform( [num_node]   , minval=0.1 , maxval=0.9 , dtype=tf.float32  ))\n",
    "\n",
    "# prediction at hidden layer\n",
    "prediction_h  = tf.sigmoid( tf.matmul( inputs, weights_ih ) + bias_h )\n",
    "\n",
    "# initialize weights connecting hidden layer to output layer\n",
    "weights_ho = tf.Variable( tf.random_uniform( [num_node,1] , minval=0.1 , maxval=0.9 , dtype=tf.float32  ))\n",
    "\n",
    "# initialize bias at output layer\n",
    "bias_o = tf.Variable( tf.random_uniform( [1]   , minval=0.1 , maxval=0.9 , dtype=tf.float32  ))\n",
    "\n",
    "# prediction at output layer\n",
    "prediction_o  = tf.sigmoid( tf.matmul( prediction_h, weights_ho ) + bias_o )\n",
    "\n",
    "# loss using MSE\n",
    "loss = tf.reduce_sum( tf.square(outputs - prediction_o ) )\n",
    "\n",
    "# use gradient descent to minimize loss\n",
    "train = tf.train.GradientDescentOptimizer(lr).minimize(loss)"
   ]
  },
  {
   "cell_type": "markdown",
   "metadata": {},
   "source": [
    "## Train\n",
    "After the training is complete, it will output final loss, weight and bias."
   ]
  },
  {
   "cell_type": "code",
   "execution_count": null,
   "metadata": {},
   "outputs": [],
   "source": [
    "with tf.Session() as sess:\n",
    "  sess.run( tf.global_variables_initializer() )\n",
    "  for step in range(epoch) :\n",
    "    sess.run(train)\n",
    "\n",
    "  weights_ih_f, bias_h_f, weights_ho_f, bias_o_f, error = sess.run([weights_ih, bias_h, weights_ho, bias_o, loss])\n",
    "\n",
    "# training completed\n",
    "print(\"Loss  : {:.8f}\".format(error))\n",
    "print(\"weight ih: \", weights_ih_f)\n",
    "print(\"bias h : \", bias_h_f)\n",
    "print(\"weights ho: \", weights_ho_f.T[0])\n",
    "print(\"bias o : \", np.asscalar(bias_o_f))"
   ]
  },
  {
   "cell_type": "markdown",
   "metadata": {},
   "source": [
    "## Predict\n",
    "Let us predict whether a person failed in math but passed in english & physics will be hired or not..."
   ]
  },
  {
   "cell_type": "code",
   "execution_count": null,
   "metadata": {},
   "outputs": [],
   "source": [
    "# create function that will show the result\n",
    "def get_prediction(data):\n",
    "    def activate(x):\n",
    "        return 1/(1+np.exp(-x))\n",
    "    pred_h = activate(np.dot(data, weights_ih_f) + bias_h_f)\n",
    "    pred_o = activate(np.dot(pred_h, weights_ho_f) + bias_o_f)\n",
    "    msg = \"Hired\" if round(np.asscalar(pred_o)) else \"Not Hired\"\n",
    "    print(data, msg, np.asscalar(pred_o))\n",
    "\n",
    "# test whether passed in all subject will be hired or not\n",
    "get_prediction([1,1,1])\n",
    "\n",
    "# test whether passed in math,english but failed in physics will be hired or not\n",
    "get_prediction([1,1,0])\n",
    "\n",
    "# test whether failed in all subject will be hired or not\n",
    "get_prediction([0,0,0])\n",
    "\n",
    "# test whether passed only in physics will be hired or not\n",
    "get_prediction([0,0,1])\n",
    "\n",
    "# test whether passed only in maths will be hired or not\n",
    "get_prediction([1,0,0])"
   ]
  },
  {
   "cell_type": "markdown",
   "metadata": {},
   "source": [
    "# Done\n",
    "Play with it by changing hyperparameters like number of nodes in hidden layer. \n",
    "\n",
    "In lesson 2 we had only one node in hidden layer. If we increase the number of nodes in hidden layer then that wont work. For making that work with more nodes we have to write complex code. But, JUST by changing the value of \"num_node\" at Initialize parameters of this lesson, it will work with multiple nodes. Tensorflow will do everything on behalf of us.\n",
    "\n",
    "Good Luck & Enjoy Tensorflow!"
   ]
  }
 ],
 "metadata": {
  "kernelspec": {
   "display_name": "Python 3",
   "language": "python",
   "name": "python3"
  },
  "language_info": {
   "codemirror_mode": {
    "name": "ipython",
    "version": 3
   },
   "file_extension": ".py",
   "mimetype": "text/x-python",
   "name": "python",
   "nbconvert_exporter": "python",
   "pygments_lexer": "ipython3",
   "version": "3.7.3"
  }
 },
 "nbformat": 4,
 "nbformat_minor": 4
}
