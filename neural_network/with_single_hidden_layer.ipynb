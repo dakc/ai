{
 "cells": [
  {
   "cell_type": "markdown",
   "metadata": {},
   "source": [
    "# Neural Network From Scratch - 2\n",
    "\n",
    "For simplicity we will be creating a neural network with a single hidden layer having a single node. All other structure will be same as we discussed in [Neural Network From Scratch - 1](without_hidden_layers.ipynb)\n",
    "\n",
    "![](with_single_hidden_layer.png)"
   ]
  },
  {
   "cell_type": "code",
   "execution_count": null,
   "metadata": {},
   "outputs": [],
   "source": [
    "import numpy as np\n",
    "import matplotlib.pyplot as plt"
   ]
  },
  {
   "cell_type": "markdown",
   "metadata": {},
   "source": [
    "## Trainning Data\n",
    "Let us create a simple collection of data from which we can find whether a person will get Job or not by checking whether he passed maths,english & physics or not (Exactly same to [Neural Network From Scratch - 1](without_hidden_layers.ipynb)).\n",
    "\n",
    "|Person    |Math| English| Physics| Hired |\n",
    "|----------|-----|-------|--------|-------|\n",
    "|Person 1  |0    |1      |1       |1      |\n",
    "|Person 2  |1    |0      |0       |1      |\n",
    "|Person 3  |0    |1      |0       |0      |\n",
    "|Person 4  |1    |0      |1       |1      |"
   ]
  },
  {
   "cell_type": "code",
   "execution_count": null,
   "metadata": {},
   "outputs": [],
   "source": [
    "# create input data as numpy array from above table\n",
    "inputs = np.array([\n",
    "    [0,1,1],\n",
    "    [1,0,0],\n",
    "    [0,1,0],\n",
    "    [1,0,1]])\n",
    "\n",
    "# create the actual output from above table\n",
    "outputs = np.array([\n",
    "    [1],\n",
    "    [1],\n",
    "    [0],\n",
    "    [1]])"
   ]
  },
  {
   "cell_type": "markdown",
   "metadata": {},
   "source": [
    "## Initialize parameters\n",
    "Everything is similar to what we discussed in [Neural Network From Scratch - 1](without_hidden_layers.ipynb). But, as we have hidden layer we need more weights and bias as shown in the image on introduction."
   ]
  },
  {
   "cell_type": "code",
   "execution_count": null,
   "metadata": {},
   "outputs": [],
   "source": [
    "# initialize weights connecting input layer to hidden layer\n",
    "weights_ih = np.array([\n",
    "    [0.5],\n",
    "    [0.5],\n",
    "    [0.5]])\n",
    "\n",
    "# initialize bias at hidden layer\n",
    "bias_h = np.array([[0.2]])\n",
    "\n",
    "# initialize weights connecting hidden layer to output layer\n",
    "weights_ho = np.array([[0.5]])\n",
    "\n",
    "# initialize bias at output layer\n",
    "bias_o = np.array([[0.2]])\n",
    "\n",
    "# initialize learning rate\n",
    "learning_rate = 0.1\n",
    "\n",
    "# initialize epoch\n",
    "epochs = 5000"
   ]
  },
  {
   "cell_type": "markdown",
   "metadata": {},
   "source": [
    "# Create Functions\n",
    "For simplicity we will functionify the activation method. Here we are using sigmoid for activation, but there are others like relu, tanh,etc. We will create a function \"draw_graph\" which will show the loss status during training.\n",
    "\n",
    "Exactly same to [Neural Network From Scratch - 1](without_hidden_layers.ipynb)"
   ]
  },
  {
   "cell_type": "code",
   "execution_count": null,
   "metadata": {},
   "outputs": [],
   "source": [
    "def activate(x):\n",
    "    \"\"\"\n",
    "    calculate sigmoid of x\n",
    "    \"\"\"\n",
    "    return 1/(1+np.exp(-x))\n",
    "\n",
    "def draw_graph(error_ar):\n",
    "    \"\"\"\n",
    "    draw graph for loss in y-axis and number of epochs in x-axis\n",
    "    \"\"\"\n",
    "    x = np.arange(1,len(error_ar)+1,dtype=int)\n",
    "    y = error_ar\n",
    "    fig = plt.figure(figsize=(10, 4))\n",
    "    ax = fig.add_axes([0,0,1,1])\n",
    "    ax.set_xlabel('epoch')\n",
    "    ax.set_ylabel('loss')\n",
    "    plt.plot(x, y, label=\"LOSS\")\n",
    "    plt.legend()\n",
    "    plt.grid()\n",
    "    plt.show()"
   ]
  },
  {
   "cell_type": "markdown",
   "metadata": {},
   "source": [
    "## Train\n",
    "After the training is complete, it will output final loss, weight and bias along with graph."
   ]
  },
  {
   "cell_type": "code",
   "execution_count": null,
   "metadata": {},
   "outputs": [],
   "source": [
    "# list for holding loss during training\n",
    "loss_list = []\n",
    "\n",
    "# start training\n",
    "for _ in range(epochs):\n",
    "    # feed forward\n",
    "    # predict at hidden layer\n",
    "    prediction_h = activate(np.dot(inputs, weights_ih) + bias_h)\n",
    "\n",
    "    # predict at output layer\n",
    "    prediction_o = activate(np.dot(prediction_h, weights_ho) + bias_o)\n",
    "\n",
    "    # backpropagation \n",
    "    # phase 1\n",
    "    # correct weights and bias connecting output and hidden layer\n",
    "    \n",
    "    # calculate error\n",
    "    error = prediction_o - outputs\n",
    "    \n",
    "    # calculate derivative of cost wrt weight\n",
    "    sigmoid_der_prediction_o = prediction_o * (1 - prediction_o)\n",
    "    der_cost_w_o = np.dot(prediction_h.T,  sigmoid_der_prediction_o * error)\n",
    "    \n",
    "    # calculate derivative of cost wrt bias\n",
    "    der_cost_b_o = sigmoid_der_prediction_o * error\n",
    "    \n",
    "    # correct weights by Gradient Descent\n",
    "    weights_ho -= learning_rate * der_cost_w_o\n",
    "    \n",
    "    # correct the bias by Gradient Descent\n",
    "    bias_o -=  learning_rate * np.sum(der_cost_b_o,axis=0,keepdims=True)\n",
    "    \n",
    "    # phase 2\n",
    "    # correct weights and bias connecting hidden and input layer\n",
    "    \n",
    "    # calculate derivative of cost wrt weight\n",
    "    sigmoid_der_prediction_h = prediction_h * (1 - prediction_h)\n",
    "    tmp = sigmoid_der_prediction_h * sigmoid_der_prediction_o * weights_ho * error\n",
    "    der_cost_w_h = np.dot(inputs.T, tmp)\n",
    "    \n",
    "    # calculate derivative of cost wrt bias\n",
    "    der_cost_b_h = np.sum(tmp,axis=0,keepdims=True)\n",
    "    \n",
    "    # correct weights by Gradient Descent\n",
    "    weights_ih -= learning_rate * der_cost_w_h\n",
    "    \n",
    "    # correct the bias by Gradient Descent\n",
    "    bias_h -=  learning_rate * der_cost_b_h\n",
    "    \n",
    "    # remember error so that we can plot into graph\n",
    "    loss_list.append(error.sum())    \n",
    "    \n",
    "# training completed\n",
    "print(\"Loss  : {:.8f}\".format(loss_list[-1]))\n",
    "print(\"weight: \", weights_ih.T[0])\n",
    "print(\"bias  : \", np.asscalar(bias_h))\n",
    "\n",
    "# draw error graph\n",
    "draw_graph(loss_list)"
   ]
  },
  {
   "cell_type": "markdown",
   "metadata": {},
   "source": [
    "## Predict\n",
    "Let us predict whether a person failed in math but passed in english & physics will be hired or not..."
   ]
  },
  {
   "cell_type": "code",
   "execution_count": null,
   "metadata": {},
   "outputs": [],
   "source": [
    "# create function that will show the result\n",
    "def get_prediction(data):\n",
    "    pred = activate(np.dot(data, weights_ih) + bias_h)\n",
    "    msg = \"Hired\" if round(np.asscalar(pred)) else \"Not Hired\"\n",
    "    print(data, msg, np.asscalar(pred))\n",
    "\n",
    "# test whether passed in all subject will be hired or not\n",
    "get_prediction([1,1,1])\n",
    "\n",
    "# test whether passed in math,english but failed in physics will be hired or not\n",
    "get_prediction([1,1,0])\n",
    "\n",
    "# test whether failed in all subject will be hired or not\n",
    "get_prediction([0,0,0])\n",
    "\n",
    "# test whether passed only in physics will be hired or not\n",
    "get_prediction([0,0,1])\n",
    "\n",
    "# test whether passed only in maths will be hired or not\n",
    "get_prediction([1,0,0])"
   ]
  }
 ],
 "metadata": {
  "kernelspec": {
   "display_name": "Python 3",
   "language": "python",
   "name": "python3"
  },
  "language_info": {
   "codemirror_mode": {
    "name": "ipython",
    "version": 3
   },
   "file_extension": ".py",
   "mimetype": "text/x-python",
   "name": "python",
   "nbconvert_exporter": "python",
   "pygments_lexer": "ipython3",
   "version": "3.7.3"
  }
 },
 "nbformat": 4,
 "nbformat_minor": 4
}
