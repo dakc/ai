{
 "cells": [
  {
   "cell_type": "code",
   "execution_count": 1,
   "metadata": {},
   "outputs": [],
   "source": [
    "import matplotlib.pyplot as plt\n",
    "import numpy as np\n",
    "%matplotlib inline"
   ]
  },
  {
   "cell_type": "markdown",
   "metadata": {},
   "source": [
    "# What is Linear Regression\n",
    "Linear Regression is a predictive algorithm which provides a Linear relationship between Prediction (Call it ‘Y’) and Input (Call is ‘X’).\n",
    "As we know from the basic maths that if we plot an ‘X’,’Y’ graph, a linear relationship will always come up with a straight line. For example, if we plot the graph of these values\n",
    "\n",
    "https://towardsdatascience.com/mathematics-for-machine-learning-linear-regression-least-square-regression-de09cf53757c\n",
    "\n",
    "\n",
    "![title](https://cdn-images-1.medium.com/max/800/1*RtTkBx9mAAXjl6X799YWdA.png)"
   ]
  },
  {
   "cell_type": "code",
   "execution_count": 2,
   "metadata": {},
   "outputs": [],
   "source": [
    "# lets put the above data in x,y\n",
    "x=[1,2,3,4,5]\n",
    "y=[4,12,28,52,80]"
   ]
  },
  {
   "cell_type": "code",
   "execution_count": 3,
   "metadata": {},
   "outputs": [
    {
     "data": {
      "image/png": "[encoded data removed]",
      "text/plain": [
       "<Figure size 432x288 with 1 Axes>"
      ]
     },
     "metadata": {
      "needs_background": "light"
     },
     "output_type": "display_data"
    }
   ],
   "source": [
    "plt.title(\"Liner Regression\")\n",
    "plt.xlabel(\"sale location\")\n",
    "plt.ylabel(\"price@POS\")\n",
    "# show grid\n",
    "plt.grid(True)\n",
    "\n",
    "plt.plot(x, y)\n",
    "plt.show()"
   ]
  },
  {
   "cell_type": "markdown",
   "metadata": {},
   "source": [
    "# slope\n",
    "Slope for two points (x1,y1), (x2,y2) can be calculated by\n",
    "\n",
    "m = (y2 -y1) / (x2 -x1)"
   ]
  },
  {
   "cell_type": "code",
   "execution_count": 4,
   "metadata": {},
   "outputs": [],
   "source": [
    "def getSlopeForTwoPoints(p1,p2):\n",
    "    x1,y1 = p1[0], p2[0]\n",
    "    x2, y2 = p1[1], p2[1]\n",
    "    slope = (y2 -y1) / (x2 -x1)\n",
    "    return slope"
   ]
  },
  {
   "cell_type": "code",
   "execution_count": 5,
   "metadata": {},
   "outputs": [],
   "source": [
    "# point 1 (starting point of the graph)\n",
    "p1 = (1,5)\n",
    "\n",
    "# point 2 (ending point of the graph)\n",
    "p2 = (5,80)\n",
    "\n",
    "# calculate slope\n",
    "slope = getSlopeForTwoPoints(p1,p2)"
   ]
  },
  {
   "cell_type": "markdown",
   "metadata": {},
   "source": [
    "# Y Intersection or Bias\n",
    "\n",
    "```\n",
    "y = mx + b\n",
    "we know m from getSlopeForTwoPoints\n",
    "we can use p1 to calculate the value of b\n",
    "y = mx + b can be written as\n",
    "b = y - mx\n",
    "```"
   ]
  },
  {
   "cell_type": "code",
   "execution_count": 6,
   "metadata": {},
   "outputs": [],
   "source": [
    "b = p1[1] - slope * p1[0]"
   ]
  },
  {
   "cell_type": "markdown",
   "metadata": {},
   "source": [
    "```\n",
    "we know m and b.\n",
    "therefore the equation of straight line will be\n",
    " y = mx + b\n",
    " y = 18.75x + (-13.75)\n",
    " or\n",
    " y = 18.75x - 13.75\n",
    " ```"
   ]
  },
  {
   "cell_type": "markdown",
   "metadata": {},
   "source": [
    "# apply equation to input x\n",
    "lets apply this equation to x=[1,2,3,4,5]\n",
    "and calculate y"
   ]
  },
  {
   "cell_type": "code",
   "execution_count": 7,
   "metadata": {},
   "outputs": [],
   "source": [
    "# x = 1\n",
    "x1 = x[0]\n",
    "y1 = slope * x1 + b\n",
    "\n",
    "x2 = x[1]\n",
    "y2 = slope * x2 + b\n",
    "\n",
    "x3 = x[2]\n",
    "y3 = slope * x3 + b\n",
    "\n",
    "x4 = x[3]\n",
    "y4 = slope * x4 + b\n",
    "\n",
    "x5 = x[4]\n",
    "y5 = slope * x5 + b"
   ]
  },
  {
   "cell_type": "code",
   "execution_count": 8,
   "metadata": {},
   "outputs": [
    {
     "data": {
      "image/png": "[encoded data removed]",
      "text/plain": [
       "<Figure size 432x288 with 1 Axes>"
      ]
     },
     "metadata": {
      "needs_background": "light"
     },
     "output_type": "display_data"
    }
   ],
   "source": [
    "# lets plot the current\n",
    "new_y = (y1,y2,y3,y4,y5)\n",
    "plt.plot(x, y, color=\"r\",label=\"original\")\n",
    "plt.plot(x, new_y, color=\"b\",label=\"new\")\n",
    "\n",
    "plt.xlabel(\"original\")\n",
    "plt.xlabel(\"new\")\n",
    "plt.legend(loc='lower right')\n",
    "\n",
    "plt.show()"
   ]
  },
  {
   "cell_type": "markdown",
   "metadata": {},
   "source": [
    "# Least Square Regression\n",
    "this is an algorithm to calculate slope\n",
    "slope = SUM((x' - mean of x)*(y' - mean of y)) / SUM((x' - mean of x)**2)"
   ]
  },
  {
   "cell_type": "code",
   "execution_count": 9,
   "metadata": {},
   "outputs": [],
   "source": [
    "# calculate mean\n",
    "x_mean = np.mean(x)\n",
    "y_mean = np.mean(y)"
   ]
  },
  {
   "cell_type": "code",
   "execution_count": 10,
   "metadata": {},
   "outputs": [],
   "source": [
    "# cal (x' - mean of x)*(y' - mean of y) for each points\n",
    "d_p1 = (x[0] - x_mean) * (y[0] - y_mean)\n",
    "d_p2 = (x[1] - x_mean) * (y[1] - y_mean)\n",
    "d_p3 = (x[2] - x_mean) * (y[2] - y_mean)\n",
    "d_p4 = (x[3] - x_mean) * (y[3] - y_mean)\n",
    "d_p5 = (x[4] - x_mean) * (y[4] - y_mean)\n",
    "\n",
    "# sum all\n",
    "sum_d_p = d_p1 + d_p2 + d_p3 + d_p4 + d_p5"
   ]
  },
  {
   "cell_type": "code",
   "execution_count": 11,
   "metadata": {},
   "outputs": [],
   "source": [
    "# cal (x' - mean of x)**2 for each points\n",
    "j_p1 = (x[0] - x_mean) ** 2\n",
    "j_p2 = (x[1] - x_mean) ** 2\n",
    "j_p3 = (x[2] - x_mean) ** 2\n",
    "j_p4 = (x[3] - x_mean) ** 2\n",
    "j_p5 = (x[4] - x_mean) ** 2\n",
    "\n",
    "# sum all\n",
    "sum_j_p = j_p1 + j_p2 + j_p3 + j_p4 + j_p5"
   ]
  },
  {
   "cell_type": "code",
   "execution_count": 12,
   "metadata": {},
   "outputs": [],
   "source": [
    "# calculte LEAST SQUARE REGRESSION\n",
    "slope_by_least_square_regression = sum_d_p / sum_j_p"
   ]
  },
  {
   "cell_type": "markdown",
   "metadata": {},
   "source": [
    "# Calculation of y-Intercept\n",
    "\n",
    "The y-intercept is calculated using the formula b = mean of y — m * mean of x"
   ]
  },
  {
   "cell_type": "code",
   "execution_count": 13,
   "metadata": {},
   "outputs": [],
   "source": [
    "b_by_least_square_regression = y_mean - slope_by_least_square_regression * x_mean"
   ]
  },
  {
   "cell_type": "code",
   "execution_count": 14,
   "metadata": {},
   "outputs": [
    {
     "data": {
      "text/plain": [
       "19.2"
      ]
     },
     "execution_count": 14,
     "metadata": {},
     "output_type": "execute_result"
    }
   ],
   "source": [
    "slope_by_least_square_regression"
   ]
  },
  {
   "cell_type": "raw",
   "metadata": {},
   "source": [
    "we know m and b.\n",
    "therefore the equation of straight line will be\n",
    " y = mx + b\n",
    " y = 19.2x + (-22.3999)\n",
    " or\n",
    " y = 19.2x - 22.399"
   ]
  },
  {
   "cell_type": "code",
   "execution_count": 15,
   "metadata": {},
   "outputs": [
    {
     "data": {
      "image/png": "[encoded data removed]",
      "text/plain": [
       "<Figure size 432x288 with 1 Axes>"
      ]
     },
     "metadata": {
      "needs_background": "light"
     },
     "output_type": "display_data"
    }
   ],
   "source": [
    "# lets apply can calculate\n",
    "\n",
    "# x = 1\n",
    "x1 = x[0]\n",
    "y1_lsr = slope_by_least_square_regression * x1 + b_by_least_square_regression\n",
    "\n",
    "x2 = x[1]\n",
    "y2_lsr = slope_by_least_square_regression * x2 + b_by_least_square_regression\n",
    "\n",
    "x3 = x[2]\n",
    "y3_lsr = slope_by_least_square_regression * x3 + b_by_least_square_regression\n",
    "\n",
    "x4 = x[3]\n",
    "y4_lsr = slope_by_least_square_regression * x4 + b_by_least_square_regression\n",
    "\n",
    "x5 = x[4]\n",
    "y5_lsr = slope_by_least_square_regression * x5 + b_by_least_square_regression\n",
    "\n",
    "# lets plot graph\n",
    "\n",
    "\n",
    "# lets plot the current\n",
    "new_y = (y1,y2,y3,y4,y5)\n",
    "new_y_lsr = (y1_lsr,y2_lsr,y3_lsr,y4_lsr,y5_lsr)\n",
    "plt.plot(x, y, color=\"r\",label=\"original\")\n",
    "plt.plot(x, new_y, color=\"b\",label=\"new\")\n",
    "plt.plot(x, new_y_lsr, color=\"y\",label=\"new LSR\")\n",
    "\n",
    "plt.xlabel(\"original\")\n",
    "plt.xlabel(\"new\")\n",
    "plt.xlabel(\"LSR\")\n",
    "plt.legend(loc='lower right')\n",
    "\n",
    "plt.show()"
   ]
  },
  {
   "cell_type": "code",
   "execution_count": null,
   "metadata": {},
   "outputs": [],
   "source": []
  }
 ],
 "metadata": {
  "kernelspec": {
   "display_name": "Python 3",
   "language": "python",
   "name": "python3"
  },
  "language_info": {
   "codemirror_mode": {
    "name": "ipython",
    "version": 3
   },
   "file_extension": ".py",
   "mimetype": "text/x-python",
   "name": "python",
   "nbconvert_exporter": "python",
   "pygments_lexer": "ipython3",
   "version": "3.6.8"
  }
 },
 "nbformat": 4,
 "nbformat_minor": 4
}
